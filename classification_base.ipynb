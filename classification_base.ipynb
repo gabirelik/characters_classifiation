{
  "nbformat": 4,
  "nbformat_minor": 0,
  "metadata": {
    "colab": {
      "name": "classification_base.ipynb",
      "provenance": []
    },
    "kernelspec": {
      "name": "python3",
      "display_name": "Python 3"
    }
  },
  "cells": [
    {
      "cell_type": "code",
      "metadata": {
        "id": "ptV0PzUJMEki"
      },
      "source": [
        "import numpy as np\n",
        "import cv2\n",
        "from sklearn.base import BaseEstimator, TransformerMixin\n",
        "from sklearn.pipeline import Pipeline\n",
        "from sklearn.tree import DecisionTreeClassifier\n",
        "from sklearn.svm import LinearSVC\n",
        "from sklearn.model_selection import GridSearchCV\n",
        "\n",
        "from utils import load_data, split_dataset, IMG_DIM\n",
        "from visualisation import show_samples"
      ],
      "execution_count": 3,
      "outputs": []
    },
    {
      "cell_type": "code",
      "metadata": {
        "id": "wkZHZSe3MeH9"
      },
      "source": [
        "class DeskewTransformer(BaseEstimator, TransformerMixin): \n",
        "    def fit(self, X, y=None):\n",
        "        return self\n",
        " \n",
        "    def transform(self, X, y=None):\n",
        "        size = X.shape[-1]\n",
        "        \n",
        "        def deskew(img):\n",
        "            m = cv2.moments(img)\n",
        "            if abs(m['mu02']) < 1e-2:\n",
        "                return img.copy()\n",
        "            skew = m['mu11'] / m['mu02']\n",
        "            M = np.float32([[1, skew, -0.5 * size * skew], [0, 1, 0]])\n",
        "            img = cv2.warpAffine(img, \n",
        "                                 M, \n",
        "                                 (size, size), \n",
        "                                 flags=cv2.WARP_INVERSE_MAP | cv2.INTER_LINEAR)\n",
        "            return img\n",
        "\n",
        "        return np.array([deskew(img) for img in X])\n",
        "    \n",
        "    \n",
        "class HogTransformer(BaseEstimator, TransformerMixin):\n",
        "    def __init__(self, \n",
        "                 window_size, \n",
        "                 cell_size, \n",
        "                 block_size, \n",
        "                 block_stride, \n",
        "                 n_bins=9):\n",
        "        self.window_size = window_size\n",
        "        self.cell_size = cell_size\n",
        "        self.block_size = block_size\n",
        "        self.block_stride = block_stride\n",
        "        self.n_bins = n_bins\n",
        " \n",
        "    def fit(self, X, y=None):\n",
        "        return self\n",
        " \n",
        "    def transform(self, X, y=None):\n",
        "        hog = cv2.HOGDescriptor(self.window_size, \n",
        "                                self.block_size, \n",
        "                                self.block_stride, \n",
        "                                self.cell_size, \n",
        "                                self.n_bins)\n",
        "        return np.array([hog.compute(img).flatten() for img in X])"
      ],
      "execution_count": 10,
      "outputs": []
    },
    {
      "cell_type": "code",
      "metadata": {
        "id": "MZ0dRACJMgRd"
      },
      "source": [
        "pipeline = Pipeline([\n",
        "    ('deskew', DeskewTransformer()),\n",
        "    ('hog', HogTransformer((IMG_DIM, IMG_DIM), (8, 8), (8, 8), (4, 4))),\n",
        "    ('clf', DecisionTreeClassifier())\n",
        "])\n",
        "\n",
        "parameters = [\n",
        "    {\n",
        "        'hog__window_size': ((IMG_DIM, IMG_DIM),),\n",
        "        'hog__cell_size': ((8, 8),),\n",
        "        'hog__block_size': ((16, 16),),\n",
        "        'hog__block_stride': ((8, 8),),\n",
        "        'clf': (DecisionTreeClassifier(),),\n",
        "        'clf__max_depth': (5, 10)\n",
        "    },\n",
        "    {\n",
        "        'hog__window_size': ((IMG_DIM, IMG_DIM),),\n",
        "        'hog__cell_size': ((8, 8),),\n",
        "        'hog__block_size': ((16, 16),),\n",
        "        'hog__block_stride': ((8, 8),),\n",
        "        'clf': (LinearSVC(),),\n",
        "        'clf__C': (0.01, 0.5)\n",
        "    }\n",
        "]\n",
        "\n",
        "grid_search = GridSearchCV(pipeline, parameters, n_jobs=-1)"
      ],
      "execution_count": 18,
      "outputs": []
    },
    {
      "cell_type": "code",
      "metadata": {
        "colab": {
          "base_uri": "https://localhost:8080/"
        },
        "id": "Z2DKBxQ1MosP",
        "outputId": "d2038196-3a97-41de-9870-bc8f0cfd7bc3"
      },
      "source": [
        "x, y = load_data(DIR)\n",
        "x_train, x_test, y_train, y_test = split_dataset(x, y)\n",
        "grid_search.fit(x_train, y_train)"
      ],
      "execution_count": 19,
      "outputs": [
        {
          "output_type": "stream",
          "text": [
            "/usr/local/lib/python3.6/dist-packages/sklearn/base.py:197: FutureWarning: From version 0.24, get_params will raise an AttributeError if a parameter cannot be retrieved as an instance attribute. Previously it would return None.\n",
            "  FutureWarning)\n",
            "/usr/local/lib/python3.6/dist-packages/sklearn/model_selection/_split.py:667: UserWarning: The least populated class in y has only 1 members, which is less than n_splits=5.\n",
            "  % (min_groups, self.n_splits)), UserWarning)\n",
            "/usr/local/lib/python3.6/dist-packages/sklearn/base.py:197: FutureWarning: From version 0.24, get_params will raise an AttributeError if a parameter cannot be retrieved as an instance attribute. Previously it would return None.\n",
            "  FutureWarning)\n",
            "/usr/local/lib/python3.6/dist-packages/joblib/externals/loky/process_executor.py:691: UserWarning: A worker stopped while some jobs were given to the executor. This can be caused by a too short worker timeout or by a memory leak.\n",
            "  \"timeout or by a memory leak.\", UserWarning\n",
            "/usr/local/lib/python3.6/dist-packages/sklearn/utils/validation.py:760: DataConversionWarning: A column-vector y was passed when a 1d array was expected. Please change the shape of y to (n_samples, ), for example using ravel().\n",
            "  y = column_or_1d(y, warn=True)\n",
            "/usr/local/lib/python3.6/dist-packages/sklearn/base.py:197: FutureWarning: From version 0.24, get_params will raise an AttributeError if a parameter cannot be retrieved as an instance attribute. Previously it would return None.\n",
            "  FutureWarning)\n"
          ],
          "name": "stderr"
        },
        {
          "output_type": "execute_result",
          "data": {
            "text/plain": [
              "GridSearchCV(cv=None, error_score=nan,\n",
              "             estimator=Pipeline(memory=None,\n",
              "                                steps=[('deskew', DeskewTransformer()),\n",
              "                                       ('hog',\n",
              "                                        HogTransformer(block_size=(8, 8),\n",
              "                                                       block_stride=(4, 4),\n",
              "                                                       cell_size=(8, 8),\n",
              "                                                       n_bins=None,\n",
              "                                                       window_size=(56, 56))),\n",
              "                                       ('clf',\n",
              "                                        DecisionTreeClassifier(ccp_alpha=0.0,\n",
              "                                                               class_weight=None,\n",
              "                                                               criterion='gini',\n",
              "                                                               max_depth=None,\n",
              "                                                               max_features=None,\n",
              "                                                               max_leaf_nodes=None,\n",
              "                                                               min_...\n",
              "                                            fit_intercept=True,\n",
              "                                            intercept_scaling=1,\n",
              "                                            loss='squared_hinge', max_iter=1000,\n",
              "                                            multi_class='ovr', penalty='l2',\n",
              "                                            random_state=None, tol=0.0001,\n",
              "                                            verbose=0),),\n",
              "                          'clf__C': (0.01, 0.5), 'hog__block_size': ((16, 16),),\n",
              "                          'hog__block_stride': ((8, 8),),\n",
              "                          'hog__cell_size': ((8, 8),),\n",
              "                          'hog__window_size': ((56, 56),)}],\n",
              "             pre_dispatch='2*n_jobs', refit=True, return_train_score=False,\n",
              "             scoring=None, verbose=0)"
            ]
          },
          "metadata": {
            "tags": []
          },
          "execution_count": 19
        }
      ]
    }
  ]
}